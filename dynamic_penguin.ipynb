{
 "cells": [
  {
   "cell_type": "markdown",
   "metadata": {},
   "source": [
    "# Interactive PursuedPyBear -- A minimal tutorial\n",
    "\n",
    "Welcome to the interactive PursuedPyBear tutorial,\n",
    "where we will learn to make games bit-by-bit.\n",
    "PursuedPyBear (PPB) is designed to have little\n",
    "unneeded code,\n",
    "sometimes called\n",
    "\"boilerplate\".\n",
    "However, to tie together Jupyter and PPB,\n",
    "we have to have a few uninteresting lines.\n",
    "\n",
    "Bear, um, with us.\n",
    "The following lines are the only boilerplate,\n",
    "just execute the cell\n",
    "(by clicking CTRL-Enter)\n",
    "and move on."
   ]
  },
  {
   "cell_type": "code",
   "execution_count": 1,
   "metadata": {},
   "outputs": [
    {
     "name": "stdout",
     "output_type": "stream",
     "text": [
      "pygame 1.9.6\n",
      "Hello from the pygame community. https://www.pygame.org/contribute.html\n"
     ]
    }
   ],
   "source": [
    "import asyncio\n",
    "from twisted.internet import asyncioreactor\n",
    "asyncioreactor.install(asyncio.get_event_loop())\n",
    "from twisted.internet import reactor\n",
    "import ppb\n",
    "import txppb\n",
    "__file__ = None"
   ]
  },
  {
   "cell_type": "code",
   "execution_count": 2,
   "metadata": {},
   "outputs": [],
   "source": [
    "class Penguin(ppb.Sprite):\n",
    "    direction = ppb.Vector(0, 0)"
   ]
  },
  {
   "cell_type": "code",
   "execution_count": 3,
   "metadata": {},
   "outputs": [],
   "source": [
    "def setup(reactor, scene):\n",
    "    global SCENE\n",
    "    SCENE = scene"
   ]
  },
  {
   "cell_type": "code",
   "execution_count": 4,
   "metadata": {},
   "outputs": [
    {
     "data": {
      "text/plain": [
       "<Deferred at 0x7f4e08127e90>"
      ]
     },
     "execution_count": 4,
     "metadata": {},
     "output_type": "execute_result"
    }
   ],
   "source": [
    "d = txppb.run(reactor, setup)\n",
    "d.addBoth(print)"
   ]
  },
  {
   "cell_type": "code",
   "execution_count": 5,
   "metadata": {},
   "outputs": [],
   "source": [
    "SCENE.add(Penguin(pos=(0,0)))"
   ]
  },
  {
   "cell_type": "code",
   "execution_count": 6,
   "metadata": {},
   "outputs": [],
   "source": [
    "from ppb import keycodes\n",
    "\n",
    "DIRECTIONS = {keycodes.Left: ppb.Vector(-1,0), keycodes.Right: ppb.Vector(1,0),\n",
    "              keycodes.Up: ppb.Vector(0, 1), keycodes.Down: ppb.Vector(0, -1)}\n",
    "\n",
    "def Penguin_on_key_pressed(self, key_event, signal):\n",
    "    self.direction = DIRECTIONS.get(key_event.key, ppb.Vector(0, 0))    \n",
    "\n",
    "def Penguin_on_key_released(self, key_event, signal):\n",
    "    if key_event.key in DIRECTIONS:\n",
    "        self.direction = ppb.Vector(0, 0)\n",
    "    \n",
    "def Penguin_on_update(self, update_event, signal):\n",
    "    self.position += update_event.time_delta * self.direction\n",
    " \n",
    "Penguin.on_update = Penguin_on_update\n",
    "Penguin.on_key_pressed = Penguin_on_key_pressed\n",
    "Penguin.on_key_released = Penguin_on_key_released"
   ]
  },
  {
   "cell_type": "code",
   "execution_count": 7,
   "metadata": {},
   "outputs": [],
   "source": [
    "class PinkCupcake(ppb.Sprite):\n",
    "    pass"
   ]
  },
  {
   "cell_type": "code",
   "execution_count": 8,
   "metadata": {},
   "outputs": [],
   "source": [
    "SCENE.add(PinkCupcake(pos=(1.5, 1)))"
   ]
  },
  {
   "cell_type": "code",
   "execution_count": 9,
   "metadata": {},
   "outputs": [],
   "source": [
    "def PinkCupcake_on_update(self, update_event,signal):\n",
    "    penguin, = update_event.scene.get(kind=Penguin)\n",
    "    if (max(penguin.bottom, self.bottom) <= min(penguin.top, self.top) and\n",
    "        max(penguin.left, self.left) <= min(penguin.right, self.right)):\n",
    "        update_event.scene.remove(self)\n",
    "PinkCupcake.on_update = PinkCupcake_on_update"
   ]
  },
  {
   "cell_type": "code",
   "execution_count": 10,
   "metadata": {},
   "outputs": [],
   "source": [
    "SCENE.add(PinkCupcake(pos=(-2, -2)))"
   ]
  },
  {
   "cell_type": "code",
   "execution_count": null,
   "metadata": {},
   "outputs": [],
   "source": []
  }
 ],
 "metadata": {
  "kernelspec": {
   "display_name": "Python 3",
   "language": "python",
   "name": "python3"
  },
  "language_info": {
   "codemirror_mode": {
    "name": "ipython",
    "version": 3
   },
   "file_extension": ".py",
   "mimetype": "text/x-python",
   "name": "python",
   "nbconvert_exporter": "python",
   "pygments_lexer": "ipython3",
   "version": "3.7.5"
  }
 },
 "nbformat": 4,
 "nbformat_minor": 2
}
