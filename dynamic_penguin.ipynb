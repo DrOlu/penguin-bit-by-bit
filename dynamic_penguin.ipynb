{
 "cells": [
  {
   "cell_type": "markdown",
   "metadata": {},
   "source": [
    "# Penguin Bit-By-Bit\n",
    "\n",
    "Let's build a game bit by bit!\n",
    "\n",
    "Bear, um, with us.\n",
    "The following lines are the only boilerplate,\n",
    "just execute the cell\n",
    "(by clicking CTRL-Enter)\n",
    "and move on."
   ]
  },
  {
   "cell_type": "code",
   "execution_count": 1,
   "metadata": {},
   "outputs": [
    {
     "name": "stdout",
     "output_type": "stream",
     "text": [
      "pygame 1.9.6\n",
      "Hello from the pygame community. https://www.pygame.org/contribute.html\n"
     ]
    }
   ],
   "source": [
    "import asyncio\n",
    "from twisted.internet import asyncioreactor\n",
    "asyncioreactor.install(asyncio.get_event_loop())\n",
    "from twisted.internet import reactor\n",
    "import ppb\n",
    "import txppb\n",
    "__file__ = None"
   ]
  },
  {
   "cell_type": "markdown",
   "metadata": {},
   "source": [
    "Next, we need a\n",
    "\"setup\"\n",
    "function.\n",
    "A setup function traditionally sets up the game elements.\n",
    "However,\n",
    "our function will just put the game\n",
    "\"scene\"\n",
    "in a global variable."
   ]
  },
  {
   "cell_type": "code",
   "execution_count": 2,
   "metadata": {},
   "outputs": [],
   "source": [
    "def setup(scene):\n",
    "    global SCENE\n",
    "    SCENE = scene"
   ]
  },
  {
   "cell_type": "markdown",
   "metadata": {},
   "source": [
    "Wondeful! Now let's start the game loop.\n",
    "This will open a window with nothing in it."
   ]
  },
  {
   "cell_type": "code",
   "execution_count": 3,
   "metadata": {},
   "outputs": [
    {
     "data": {
      "text/plain": [
       "<Deferred at 0x7fa2a81acd90>"
      ]
     },
     "execution_count": 3,
     "metadata": {},
     "output_type": "execute_result"
    }
   ],
   "source": [
    "d = txppb.run(setup, reactor)\n",
    "d.addBoth(print)"
   ]
  },
  {
   "cell_type": "markdown",
   "metadata": {},
   "source": [
    "The game is called \"penguin bit by bit\",\n",
    "so we should probably have a penguin.\n",
    "In PPB,\n",
    "these are called \"sprites\".\n",
    "This is the standard terminology for video games."
   ]
  },
  {
   "cell_type": "code",
   "execution_count": 4,
   "metadata": {},
   "outputs": [],
   "source": [
    "class Penguin(ppb.Sprite):\n",
    "    pass"
   ]
  },
  {
   "cell_type": "markdown",
   "metadata": {},
   "source": [
    "We defined a penguin.\n",
    "In PPB, game objects are called \"sprites\".\n",
    "This is common in video game development.\n",
    "\n",
    "In PPB, sprites automatically find the image if it is in the current directory,\n",
    "and named the same as the sprite.\n",
    "I made sure I had a cute little png named `penguin.png`.\n",
    "\n",
    "Now let's put the penguin riiiiiight in the middle."
   ]
  },
  {
   "cell_type": "code",
   "execution_count": 5,
   "metadata": {},
   "outputs": [],
   "source": [
    "SCENE.add(Penguin(pos=(0,0)))"
   ]
  },
  {
   "cell_type": "markdown",
   "metadata": {},
   "source": [
    "But penguins are not meant to sit still! The penguin should move around.\n",
    "We have the player control the penguin with the arrow keys.\n",
    "First, let's map the keys to vectors:"
   ]
  },
  {
   "cell_type": "code",
   "execution_count": 6,
   "metadata": {},
   "outputs": [],
   "source": [
    "from ppb import keycodes\n",
    "\n",
    "DIRECTIONS = {keycodes.Left: ppb.Vector(-1,0), keycodes.Right: ppb.Vector(1,0),\n",
    "              keycodes.Up: ppb.Vector(0, 1), keycodes.Down: ppb.Vector(0, -1)}"
   ]
  },
  {
   "cell_type": "markdown",
   "metadata": {},
   "source": [
    "Next let's make sure the penguin has a sense of direction, and it follows it:"
   ]
  },
  {
   "cell_type": "code",
   "execution_count": 7,
   "metadata": {},
   "outputs": [],
   "source": [
    "Penguin.direction = ppb.Vector(0, 0)\n",
    "\n",
    "def Penguin_on_update(self, update_event, signal):\n",
    "    self.position += update_event.time_delta * self.direction\n",
    " \n",
    "Penguin.on_update = Penguin_on_update"
   ]
  },
  {
   "cell_type": "markdown",
   "metadata": {},
   "source": [
    "Oh, um, well.\n",
    "The penguin is diligently moving...at zero speed,\n",
    "precisely nowhere.\n",
    "Let's manually set the direction to see what happens."
   ]
  },
  {
   "cell_type": "code",
   "execution_count": 8,
   "metadata": {},
   "outputs": [],
   "source": [
    "Penguin.direction = DIRECTIONS[keycodes.Up]/4"
   ]
  },
  {
   "cell_type": "markdown",
   "metadata": {},
   "source": [
    "The direction is up, but a little slowly. This gives enough time to set the penguin's direction back to zero manually.\n",
    "Let's do that now!"
   ]
  },
  {
   "cell_type": "code",
   "execution_count": 9,
   "metadata": {},
   "outputs": [],
   "source": [
    "Penguin.direction = ppb.Vector(0, 0)"
   ]
  },
  {
   "cell_type": "markdown",
   "metadata": {},
   "source": [
    "Phew, that was exciting -- but not what we wanted.\n",
    "We want the penguin to respond to key presses.\n",
    "Let's set it to set the direction to the key press,\n",
    "and back to zero when the key is released."
   ]
  },
  {
   "cell_type": "code",
   "execution_count": 10,
   "metadata": {},
   "outputs": [],
   "source": [
    "def Penguin_on_key_pressed(self, key_event, signal):\n",
    "    self.direction = DIRECTIONS.get(key_event.key, ppb.Vector(0, 0))    \n",
    "\n",
    "def Penguin_on_key_released(self, key_event, signal):\n",
    "    if key_event.key in DIRECTIONS:\n",
    "        self.direction = ppb.Vector(0, 0)\n",
    "\n",
    "Penguin.on_key_pressed = Penguin_on_key_pressed\n",
    "Penguin.on_key_released = Penguin_on_key_released"
   ]
  },
  {
   "cell_type": "markdown",
   "metadata": {},
   "source": [
    "The Penguin is a bit bored, isn't it?\n",
    "Maybe we should give it an orange ball to play with."
   ]
  },
  {
   "cell_type": "code",
   "execution_count": 11,
   "metadata": {},
   "outputs": [],
   "source": [
    "class OrangeBall(ppb.Sprite):\n",
    "    pass"
   ]
  },
  {
   "cell_type": "markdown",
   "metadata": {},
   "source": [
    "Again, I made sure to have an image called `orangeball.png`.\n",
    "Now let's put the ball on the left side of the screen."
   ]
  },
  {
   "cell_type": "code",
   "execution_count": 12,
   "metadata": {},
   "outputs": [],
   "source": [
    "SCENE.add(OrangeBall(pos=(-4, 0)))"
   ]
  },
  {
   "cell_type": "markdown",
   "metadata": {},
   "source": [
    "Try as it might, the penguin cannot kick the ball.\n",
    "Let's have the ball move away from the penguin when it approaches.\n",
    "First, we define a \"smooth step\" function.\n",
    "This is a trick of the art in video game development,\n",
    "this function gives the illusion of smoothness."
   ]
  },
  {
   "cell_type": "code",
   "execution_count": 13,
   "metadata": {},
   "outputs": [],
   "source": [
    "def smooth_step(t):\n",
    "    return t * t * (3 - 2 * t)"
   ]
  },
  {
   "cell_type": "markdown",
   "metadata": {},
   "source": [
    "OK, now we need to add movement code to the ball.\n",
    "Unless the ball is already in motion,\n",
    "if it sees the penguin approaching,\n",
    "it will move in the opposite direction.\n",
    "(If the penguin is on top of it, it will move in a random direction.)\n",
    "\n",
    "It checks where it needs to go,\n",
    "the \"target position\",\n",
    "and then gets to the target position over a minute.\n",
    "It will use the smooth step function.\n",
    "When it is done, it will mark itself as \"not moving\"."
   ]
  },
  {
   "cell_type": "code",
   "execution_count": 14,
   "metadata": {},
   "outputs": [],
   "source": [
    "import random\n",
    "OrangeBall.is_moving = False\n",
    "def OrangeBall_on_update(self, update_event,signal):\n",
    "    if not self.is_moving:\n",
    "        penguin, = update_event.scene.get(kind=Penguin)\n",
    "        if (max(penguin.bottom, self.bottom) <= min(penguin.top, self.top) and\n",
    "            max(penguin.left, self.left) <= min(penguin.right, self.right)):\n",
    "            try:\n",
    "                direction = (self.position - penguin.position).normalize()\n",
    "            except ZeroDivisionError:\n",
    "                direction = ppb.Vector(random.uniform(-1, 1), random.uniform(-1, 1)).normalize()\n",
    "            self.target_position = self.position + direction\n",
    "            self.original_position = self.position\n",
    "            self.time_passed = 0\n",
    "            self.is_moving = True\n",
    "    else:\n",
    "        self.time_passed += update_event.time_delta\n",
    "        if self.time_passed >= 1:\n",
    "            self.position = self.target_position\n",
    "            self.is_moving = False\n",
    "            return\n",
    "        t = smooth_step(self.time_passed)\n",
    "        self.position = (1-t) * self.original_position + t * self.target_position\n",
    "OrangeBall.on_update = OrangeBall_on_update"
   ]
  },
  {
   "cell_type": "markdown",
   "metadata": {},
   "source": [
    "But just kicking a ball around is not that much fun. Let's add a target."
   ]
  },
  {
   "cell_type": "code",
   "execution_count": 15,
   "metadata": {},
   "outputs": [],
   "source": [
    "class Target(ppb.Sprite):\n",
    "    pass"
   ]
  },
  {
   "cell_type": "markdown",
   "metadata": {},
   "source": [
    "Let's put the target at the right of the screen."
   ]
  },
  {
   "cell_type": "code",
   "execution_count": 16,
   "metadata": {},
   "outputs": [],
   "source": [
    "SCENE.add(Target(pos=(4, 0)))"
   ]
  },
  {
   "cell_type": "markdown",
   "metadata": {},
   "source": [
    "Now, we will want a reward for the penguin,\n",
    "when it kicks the ball into the target.\n",
    "How about a fish?"
   ]
  },
  {
   "cell_type": "code",
   "execution_count": 17,
   "metadata": {},
   "outputs": [],
   "source": [
    "class Fish(ppb.Sprite):\n",
    "    pass"
   ]
  },
  {
   "cell_type": "markdown",
   "metadata": {},
   "source": [
    "When the target gets the ball, it should remove it, and create a new ball at the other end of the screen.\n",
    "Then, it will cause a fish to appear."
   ]
  },
  {
   "cell_type": "code",
   "execution_count": 18,
   "metadata": {},
   "outputs": [],
   "source": [
    "def Target_on_update(self, update_event, signal):\n",
    "    for ball in update_event.scene.get(kind=OrangeBall):\n",
    "        if (max(ball.bottom, self.bottom) <= min(ball.top, self.top) and\n",
    "            max(ball.left, self.left) <= min(ball.right, self.right)):\n",
    "            update_event.scene.remove(ball)\n",
    "            update_event.scene.add(OrangeBall(pos=(-4, random.uniform(-3, 3))))\n",
    "            update_event.scene.add(Fish(pos=(random.uniform(-4, -3), random.uniform(-3, 3))))\n",
    "Target.on_update = Target_on_update"
   ]
  },
  {
   "cell_type": "markdown",
   "metadata": {},
   "source": [
    "We want to have the penguin eat the fish.\n",
    "When the fish sees the penguin, it should vanish."
   ]
  },
  {
   "cell_type": "code",
   "execution_count": 19,
   "metadata": {},
   "outputs": [],
   "source": [
    "def Fish_on_update(self, update_event,signal):\n",
    "    penguin, = update_event.scene.get(kind=Penguin)\n",
    "    if (max(penguin.bottom, self.bottom) <= min(penguin.top, self.top) and\n",
    "        max(penguin.left, self.left) <= min(penguin.right, self.right)):\n",
    "        update_event.scene.remove(self)\n",
    "Fish.on_update = Fish_on_update"
   ]
  },
  {
   "cell_type": "code",
   "execution_count": null,
   "metadata": {},
   "outputs": [],
   "source": []
  }
 ],
 "metadata": {
  "kernelspec": {
   "display_name": "Python 3",
   "language": "python",
   "name": "python3"
  },
  "language_info": {
   "codemirror_mode": {
    "name": "ipython",
    "version": 3
   },
   "file_extension": ".py",
   "mimetype": "text/x-python",
   "name": "python",
   "nbconvert_exporter": "python",
   "pygments_lexer": "ipython3",
   "version": "3.7.5"
  }
 },
 "nbformat": 4,
 "nbformat_minor": 2
}
